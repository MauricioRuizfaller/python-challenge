{
 "cells": [
  {
   "cell_type": "code",
   "execution_count": 26,
   "id": "28e8f2ff",
   "metadata": {},
   "outputs": [],
   "source": [
    "import pandas as pd"
   ]
  },
  {
   "cell_type": "code",
   "execution_count": 27,
   "id": "54e8a3ab",
   "metadata": {},
   "outputs": [
    {
     "data": {
      "text/html": [
       "<div>\n",
       "<style scoped>\n",
       "    .dataframe tbody tr th:only-of-type {\n",
       "        vertical-align: middle;\n",
       "    }\n",
       "\n",
       "    .dataframe tbody tr th {\n",
       "        vertical-align: top;\n",
       "    }\n",
       "\n",
       "    .dataframe thead th {\n",
       "        text-align: right;\n",
       "    }\n",
       "</style>\n",
       "<table border=\"1\" class=\"dataframe\">\n",
       "  <thead>\n",
       "    <tr style=\"text-align: right;\">\n",
       "      <th></th>\n",
       "      <th>Date</th>\n",
       "      <th>Profit/Losses</th>\n",
       "    </tr>\n",
       "  </thead>\n",
       "  <tbody>\n",
       "    <tr>\n",
       "      <th>0</th>\n",
       "      <td>Jan-10</td>\n",
       "      <td>1088983</td>\n",
       "    </tr>\n",
       "    <tr>\n",
       "      <th>1</th>\n",
       "      <td>Feb-10</td>\n",
       "      <td>-354534</td>\n",
       "    </tr>\n",
       "    <tr>\n",
       "      <th>2</th>\n",
       "      <td>Mar-10</td>\n",
       "      <td>276622</td>\n",
       "    </tr>\n",
       "    <tr>\n",
       "      <th>3</th>\n",
       "      <td>Apr-10</td>\n",
       "      <td>-728133</td>\n",
       "    </tr>\n",
       "    <tr>\n",
       "      <th>4</th>\n",
       "      <td>May-10</td>\n",
       "      <td>852993</td>\n",
       "    </tr>\n",
       "    <tr>\n",
       "      <th>...</th>\n",
       "      <td>...</td>\n",
       "      <td>...</td>\n",
       "    </tr>\n",
       "    <tr>\n",
       "      <th>81</th>\n",
       "      <td>Oct-16</td>\n",
       "      <td>-729004</td>\n",
       "    </tr>\n",
       "    <tr>\n",
       "      <th>82</th>\n",
       "      <td>Nov-16</td>\n",
       "      <td>-112209</td>\n",
       "    </tr>\n",
       "    <tr>\n",
       "      <th>83</th>\n",
       "      <td>Dec-16</td>\n",
       "      <td>516313</td>\n",
       "    </tr>\n",
       "    <tr>\n",
       "      <th>84</th>\n",
       "      <td>Jan-17</td>\n",
       "      <td>607208</td>\n",
       "    </tr>\n",
       "    <tr>\n",
       "      <th>85</th>\n",
       "      <td>Feb-17</td>\n",
       "      <td>382539</td>\n",
       "    </tr>\n",
       "  </tbody>\n",
       "</table>\n",
       "<p>86 rows × 2 columns</p>\n",
       "</div>"
      ],
      "text/plain": [
       "      Date  Profit/Losses\n",
       "0   Jan-10        1088983\n",
       "1   Feb-10        -354534\n",
       "2   Mar-10         276622\n",
       "3   Apr-10        -728133\n",
       "4   May-10         852993\n",
       "..     ...            ...\n",
       "81  Oct-16        -729004\n",
       "82  Nov-16        -112209\n",
       "83  Dec-16         516313\n",
       "84  Jan-17         607208\n",
       "85  Feb-17         382539\n",
       "\n",
       "[86 rows x 2 columns]"
      ]
     },
     "execution_count": 27,
     "metadata": {},
     "output_type": "execute_result"
    }
   ],
   "source": [
    "df = pd.read_csv('budget_data.csv')\n",
    "\n",
    "df"
   ]
  },
  {
   "cell_type": "code",
   "execution_count": 28,
   "id": "5faa6488",
   "metadata": {},
   "outputs": [],
   "source": [
    "net_amount = df['Profit/Losses'].sum()"
   ]
  },
  {
   "cell_type": "code",
   "execution_count": 29,
   "id": "bdca1fa0",
   "metadata": {},
   "outputs": [],
   "source": [
    "total_months = df['Date'].nunique()"
   ]
  },
  {
   "cell_type": "code",
   "execution_count": 30,
   "id": "5d1ca6d0",
   "metadata": {},
   "outputs": [],
   "source": [
    "df['difference'] = df['Profit/Losses'].diff()"
   ]
  },
  {
   "cell_type": "code",
   "execution_count": 31,
   "id": "c62e8964",
   "metadata": {},
   "outputs": [],
   "source": [
    "average_change = df['difference'].mean()"
   ]
  },
  {
   "cell_type": "code",
   "execution_count": 32,
   "id": "5700dc86",
   "metadata": {},
   "outputs": [],
   "source": [
    "average_change = round(average_change, 2)"
   ]
  },
  {
   "cell_type": "code",
   "execution_count": 33,
   "id": "5bd88597",
   "metadata": {},
   "outputs": [],
   "source": [
    "max_increase_index = df['difference'].idxmax()"
   ]
  },
  {
   "cell_type": "code",
   "execution_count": 34,
   "id": "1bf7aa54",
   "metadata": {},
   "outputs": [],
   "source": [
    "date_max_increase = df.loc[max_increase_index, 'Date']"
   ]
  },
  {
   "cell_type": "code",
   "execution_count": 35,
   "id": "43a38f6e",
   "metadata": {},
   "outputs": [],
   "source": [
    "amount_max_increase = df.loc[max_increase_index, 'difference']"
   ]
  },
  {
   "cell_type": "code",
   "execution_count": 36,
   "id": "6b35538d",
   "metadata": {},
   "outputs": [],
   "source": [
    "max_decrease_index = df['difference'].idxmin()"
   ]
  },
  {
   "cell_type": "code",
   "execution_count": 37,
   "id": "30074611",
   "metadata": {},
   "outputs": [],
   "source": [
    "date_max_decrease = df.loc[max_decrease_index, 'Date']"
   ]
  },
  {
   "cell_type": "code",
   "execution_count": 38,
   "id": "e478fec6",
   "metadata": {},
   "outputs": [],
   "source": [
    "amount_max_decrease = df.loc[max_decrease_index, 'difference']"
   ]
  },
  {
   "cell_type": "code",
   "execution_count": 40,
   "id": "a26e3f9f",
   "metadata": {},
   "outputs": [
    {
     "name": "stdout",
     "output_type": "stream",
     "text": [
      "Financial Analysis\n",
      "----------------------------\n",
      "Total Months:  86\n",
      "Total: $ 22564198\n",
      "Average Change: $ -8311.11\n",
      "Greatest Increase in Profits: Aug-16 ( $ 1862002.0 )\n",
      "Greatest Decrease in Profits: Feb-14 ( $ -1825558.0 )\n"
     ]
    }
   ],
   "source": [
    "print(\"Financial Analysis\")\n",
    "print(\"----------------------------\")\n",
    "print(\"Total Months: \", df['Date'].count())\n",
    "print(\"Total: $\", df['Profit/Losses'].sum())\n",
    "print(\"Average Change: $\", average_change)\n",
    "print(\"Greatest Increase in Profits:\", date_max_increase, \"( $\", amount_max_increase, \")\")\n",
    "print(\"Greatest Decrease in Profits:\", date_max_decrease, \"( $\", amount_max_decrease, \")\")"
   ]
  },
  {
   "cell_type": "code",
   "execution_count": 41,
   "id": "cd06ddae",
   "metadata": {},
   "outputs": [
    {
     "name": "stdout",
     "output_type": "stream",
     "text": [
      "Results exported to financial_analysis.txt\n"
     ]
    }
   ],
   "source": [
    "with open('financial_analysis.txt', 'w') as f:\n",
    "    f.write(\"Financial Analysis\\n\")\n",
    "    f.write(\"----------------------------\\n\")\n",
    "    f.write(\"Total Months: {}\\n\".format(df['Date'].count()))\n",
    "    f.write(\"Total: ${}\\n\".format(df['Profit/Losses'].sum()))\n",
    "    f.write(\"Average Change: ${}\\n\".format(average_change))\n",
    "    f.write(\"Greatest Increase in Profits: {} ( ${} )\\n\".format(date_max_increase, amount_max_increase))\n",
    "    f.write(\"Greatest Decrease in Profits: {} ( ${} )\\n\".format(date_max_decrease, amount_max_decrease))\n",
    "\n",
    "print(\"Results exported to financial_analysis.txt\")"
   ]
  },
  {
   "cell_type": "code",
   "execution_count": null,
   "id": "19d935b0",
   "metadata": {},
   "outputs": [],
   "source": []
  }
 ],
 "metadata": {
  "kernelspec": {
   "display_name": "Python 3 (ipykernel)",
   "language": "python",
   "name": "python3"
  },
  "language_info": {
   "codemirror_mode": {
    "name": "ipython",
    "version": 3
   },
   "file_extension": ".py",
   "mimetype": "text/x-python",
   "name": "python",
   "nbconvert_exporter": "python",
   "pygments_lexer": "ipython3",
   "version": "3.9.13"
  }
 },
 "nbformat": 4,
 "nbformat_minor": 5
}
